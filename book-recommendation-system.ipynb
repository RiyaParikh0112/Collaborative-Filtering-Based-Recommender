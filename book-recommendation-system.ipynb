{
 "cells": [
  {
   "cell_type": "code",
   "execution_count": 1,
   "id": "1884d369",
   "metadata": {
    "_cell_guid": "b1076dfc-b9ad-4769-8c92-a6c4dae69d19",
    "_uuid": "8f2839f25d086af736a60e9eeb907d3b93b6e0e5",
    "execution": {
     "iopub.execute_input": "2022-08-03T15:05:59.911927Z",
     "iopub.status.busy": "2022-08-03T15:05:59.911447Z",
     "iopub.status.idle": "2022-08-03T15:05:59.922039Z",
     "shell.execute_reply": "2022-08-03T15:05:59.921188Z"
    },
    "papermill": {
     "duration": 0.019581,
     "end_time": "2022-08-03T15:05:59.924262",
     "exception": false,
     "start_time": "2022-08-03T15:05:59.904681",
     "status": "completed"
    },
    "tags": []
   },
   "outputs": [],
   "source": [
    "import pandas as pd\n",
    "import numpy as np"
   ]
  },
  {
   "cell_type": "code",
   "execution_count": 2,
   "id": "2af3953c",
   "metadata": {
    "execution": {
     "iopub.execute_input": "2022-08-03T15:05:59.933953Z",
     "iopub.status.busy": "2022-08-03T15:05:59.933194Z",
     "iopub.status.idle": "2022-08-03T15:06:04.378723Z",
     "shell.execute_reply": "2022-08-03T15:06:04.377619Z"
    },
    "papermill": {
     "duration": 4.452851,
     "end_time": "2022-08-03T15:06:04.381311",
     "exception": false,
     "start_time": "2022-08-03T15:05:59.928460",
     "status": "completed"
    },
    "tags": []
   },
   "outputs": [
    {
     "name": "stderr",
     "output_type": "stream",
     "text": [
      "/opt/conda/lib/python3.7/site-packages/IPython/core/interactiveshell.py:3552: DtypeWarning: Columns (3) have mixed types.Specify dtype option on import or set low_memory=False.\n",
      "  exec(code_obj, self.user_global_ns, self.user_ns)\n"
     ]
    }
   ],
   "source": [
    "books = pd.read_csv('../input/book-recommendation-dataset/Books.csv')\n",
    "users = pd.read_csv('../input/book-recommendation-dataset/Users.csv')\n",
    "ratings = pd.read_csv('../input/book-recommendation-dataset/Ratings.csv')"
   ]
  },
  {
   "cell_type": "code",
   "execution_count": 3,
   "id": "84a8716c",
   "metadata": {
    "execution": {
     "iopub.execute_input": "2022-08-03T15:06:04.390973Z",
     "iopub.status.busy": "2022-08-03T15:06:04.390557Z",
     "iopub.status.idle": "2022-08-03T15:06:04.396157Z",
     "shell.execute_reply": "2022-08-03T15:06:04.394969Z"
    },
    "papermill": {
     "duration": 0.013279,
     "end_time": "2022-08-03T15:06:04.398814",
     "exception": false,
     "start_time": "2022-08-03T15:06:04.385535",
     "status": "completed"
    },
    "tags": []
   },
   "outputs": [
    {
     "name": "stdout",
     "output_type": "stream",
     "text": [
      "(1149780, 3)\n"
     ]
    }
   ],
   "source": [
    "print(ratings.shape)"
   ]
  },
  {
   "cell_type": "code",
   "execution_count": 4,
   "id": "7dfd1d79",
   "metadata": {
    "execution": {
     "iopub.execute_input": "2022-08-03T15:06:04.408283Z",
     "iopub.status.busy": "2022-08-03T15:06:04.407922Z",
     "iopub.status.idle": "2022-08-03T15:06:04.518600Z",
     "shell.execute_reply": "2022-08-03T15:06:04.517594Z"
    },
    "papermill": {
     "duration": 0.118007,
     "end_time": "2022-08-03T15:06:04.520903",
     "exception": false,
     "start_time": "2022-08-03T15:06:04.402896",
     "status": "completed"
    },
    "tags": []
   },
   "outputs": [
    {
     "data": {
      "text/plain": [
       "ISBN                   0\n",
       "Book-Title             0\n",
       "Book-Author            1\n",
       "Year-Of-Publication    0\n",
       "Publisher              2\n",
       "Image-URL-S            0\n",
       "Image-URL-M            0\n",
       "Image-URL-L            3\n",
       "dtype: int64"
      ]
     },
     "execution_count": 4,
     "metadata": {},
     "output_type": "execute_result"
    }
   ],
   "source": [
    "books.isnull().sum()"
   ]
  },
  {
   "cell_type": "code",
   "execution_count": 5,
   "id": "39265fbe",
   "metadata": {
    "execution": {
     "iopub.execute_input": "2022-08-03T15:06:04.531238Z",
     "iopub.status.busy": "2022-08-03T15:06:04.530515Z",
     "iopub.status.idle": "2022-08-03T15:06:04.555468Z",
     "shell.execute_reply": "2022-08-03T15:06:04.554718Z"
    },
    "papermill": {
     "duration": 0.032346,
     "end_time": "2022-08-03T15:06:04.557529",
     "exception": false,
     "start_time": "2022-08-03T15:06:04.525183",
     "status": "completed"
    },
    "tags": []
   },
   "outputs": [
    {
     "data": {
      "text/plain": [
       "User-ID          0\n",
       "Location         0\n",
       "Age         110762\n",
       "dtype: int64"
      ]
     },
     "execution_count": 5,
     "metadata": {},
     "output_type": "execute_result"
    }
   ],
   "source": [
    "users.isnull().sum()"
   ]
  },
  {
   "cell_type": "code",
   "execution_count": 6,
   "id": "13070d71",
   "metadata": {
    "execution": {
     "iopub.execute_input": "2022-08-03T15:06:04.567747Z",
     "iopub.status.busy": "2022-08-03T15:06:04.567107Z",
     "iopub.status.idle": "2022-08-03T15:06:05.192860Z",
     "shell.execute_reply": "2022-08-03T15:06:05.191829Z"
    },
    "papermill": {
     "duration": 0.633928,
     "end_time": "2022-08-03T15:06:05.195839",
     "exception": false,
     "start_time": "2022-08-03T15:06:04.561911",
     "status": "completed"
    },
    "tags": []
   },
   "outputs": [
    {
     "data": {
      "text/plain": [
       "0"
      ]
     },
     "execution_count": 6,
     "metadata": {},
     "output_type": "execute_result"
    }
   ],
   "source": [
    "books.duplicated().sum()"
   ]
  },
  {
   "cell_type": "markdown",
   "id": "945227b9",
   "metadata": {
    "papermill": {
     "duration": 0.00468,
     "end_time": "2022-08-03T15:06:05.205083",
     "exception": false,
     "start_time": "2022-08-03T15:06:05.200403",
     "status": "completed"
    },
    "tags": []
   },
   "source": [
    "# Popularity Based Reccomender System"
   ]
  },
  {
   "cell_type": "code",
   "execution_count": 7,
   "id": "faf990f0",
   "metadata": {
    "execution": {
     "iopub.execute_input": "2022-08-03T15:06:05.215573Z",
     "iopub.status.busy": "2022-08-03T15:06:05.214970Z",
     "iopub.status.idle": "2022-08-03T15:06:05.243264Z",
     "shell.execute_reply": "2022-08-03T15:06:05.242396Z"
    },
    "papermill": {
     "duration": 0.036067,
     "end_time": "2022-08-03T15:06:05.245466",
     "exception": false,
     "start_time": "2022-08-03T15:06:05.209399",
     "status": "completed"
    },
    "tags": []
   },
   "outputs": [
    {
     "data": {
      "text/html": [
       "<div>\n",
       "<style scoped>\n",
       "    .dataframe tbody tr th:only-of-type {\n",
       "        vertical-align: middle;\n",
       "    }\n",
       "\n",
       "    .dataframe tbody tr th {\n",
       "        vertical-align: top;\n",
       "    }\n",
       "\n",
       "    .dataframe thead th {\n",
       "        text-align: right;\n",
       "    }\n",
       "</style>\n",
       "<table border=\"1\" class=\"dataframe\">\n",
       "  <thead>\n",
       "    <tr style=\"text-align: right;\">\n",
       "      <th></th>\n",
       "      <th>ISBN</th>\n",
       "      <th>Book-Title</th>\n",
       "      <th>Book-Author</th>\n",
       "      <th>Year-Of-Publication</th>\n",
       "      <th>Publisher</th>\n",
       "      <th>Image-URL-S</th>\n",
       "      <th>Image-URL-M</th>\n",
       "      <th>Image-URL-L</th>\n",
       "    </tr>\n",
       "  </thead>\n",
       "  <tbody>\n",
       "    <tr>\n",
       "      <th>20560</th>\n",
       "      <td>0440495717</td>\n",
       "      <td>Winnie the Pooh</td>\n",
       "      <td>A. A. Milne</td>\n",
       "      <td>1981</td>\n",
       "      <td>Yearling Books</td>\n",
       "      <td>http://images.amazon.com/images/P/0440495717.0...</td>\n",
       "      <td>http://images.amazon.com/images/P/0440495717.0...</td>\n",
       "      <td>http://images.amazon.com/images/P/0440495717.0...</td>\n",
       "    </tr>\n",
       "  </tbody>\n",
       "</table>\n",
       "</div>"
      ],
      "text/plain": [
       "             ISBN       Book-Title  Book-Author Year-Of-Publication  \\\n",
       "20560  0440495717  Winnie the Pooh  A. A. Milne                1981   \n",
       "\n",
       "            Publisher                                        Image-URL-S  \\\n",
       "20560  Yearling Books  http://images.amazon.com/images/P/0440495717.0...   \n",
       "\n",
       "                                             Image-URL-M  \\\n",
       "20560  http://images.amazon.com/images/P/0440495717.0...   \n",
       "\n",
       "                                             Image-URL-L  \n",
       "20560  http://images.amazon.com/images/P/0440495717.0...  "
      ]
     },
     "execution_count": 7,
     "metadata": {},
     "output_type": "execute_result"
    }
   ],
   "source": [
    "books.sample()"
   ]
  },
  {
   "cell_type": "code",
   "execution_count": 8,
   "id": "f5cc43f7",
   "metadata": {
    "execution": {
     "iopub.execute_input": "2022-08-03T15:06:05.256240Z",
     "iopub.status.busy": "2022-08-03T15:06:05.255877Z",
     "iopub.status.idle": "2022-08-03T15:06:05.300550Z",
     "shell.execute_reply": "2022-08-03T15:06:05.299603Z"
    },
    "papermill": {
     "duration": 0.052665,
     "end_time": "2022-08-03T15:06:05.302754",
     "exception": false,
     "start_time": "2022-08-03T15:06:05.250089",
     "status": "completed"
    },
    "tags": []
   },
   "outputs": [
    {
     "data": {
      "text/html": [
       "<div>\n",
       "<style scoped>\n",
       "    .dataframe tbody tr th:only-of-type {\n",
       "        vertical-align: middle;\n",
       "    }\n",
       "\n",
       "    .dataframe tbody tr th {\n",
       "        vertical-align: top;\n",
       "    }\n",
       "\n",
       "    .dataframe thead th {\n",
       "        text-align: right;\n",
       "    }\n",
       "</style>\n",
       "<table border=\"1\" class=\"dataframe\">\n",
       "  <thead>\n",
       "    <tr style=\"text-align: right;\">\n",
       "      <th></th>\n",
       "      <th>User-ID</th>\n",
       "      <th>ISBN</th>\n",
       "      <th>Book-Rating</th>\n",
       "    </tr>\n",
       "  </thead>\n",
       "  <tbody>\n",
       "    <tr>\n",
       "      <th>280347</th>\n",
       "      <td>66591</td>\n",
       "      <td>0060934050</td>\n",
       "      <td>0</td>\n",
       "    </tr>\n",
       "  </tbody>\n",
       "</table>\n",
       "</div>"
      ],
      "text/plain": [
       "        User-ID        ISBN  Book-Rating\n",
       "280347    66591  0060934050            0"
      ]
     },
     "execution_count": 8,
     "metadata": {},
     "output_type": "execute_result"
    }
   ],
   "source": [
    "ratings.sample()"
   ]
  },
  {
   "cell_type": "code",
   "execution_count": 9,
   "id": "3973abcd",
   "metadata": {
    "execution": {
     "iopub.execute_input": "2022-08-03T15:06:05.313718Z",
     "iopub.status.busy": "2022-08-03T15:06:05.313351Z",
     "iopub.status.idle": "2022-08-03T15:06:06.271485Z",
     "shell.execute_reply": "2022-08-03T15:06:06.270343Z"
    },
    "papermill": {
     "duration": 0.966556,
     "end_time": "2022-08-03T15:06:06.274045",
     "exception": false,
     "start_time": "2022-08-03T15:06:05.307489",
     "status": "completed"
    },
    "tags": []
   },
   "outputs": [],
   "source": [
    "ratings_name = ratings.merge(books,on='ISBN')"
   ]
  },
  {
   "cell_type": "code",
   "execution_count": 10,
   "id": "bea39419",
   "metadata": {
    "execution": {
     "iopub.execute_input": "2022-08-03T15:06:06.285044Z",
     "iopub.status.busy": "2022-08-03T15:06:06.284696Z",
     "iopub.status.idle": "2022-08-03T15:06:06.299668Z",
     "shell.execute_reply": "2022-08-03T15:06:06.298682Z"
    },
    "papermill": {
     "duration": 0.023067,
     "end_time": "2022-08-03T15:06:06.301828",
     "exception": false,
     "start_time": "2022-08-03T15:06:06.278761",
     "status": "completed"
    },
    "tags": []
   },
   "outputs": [
    {
     "data": {
      "text/html": [
       "<div>\n",
       "<style scoped>\n",
       "    .dataframe tbody tr th:only-of-type {\n",
       "        vertical-align: middle;\n",
       "    }\n",
       "\n",
       "    .dataframe tbody tr th {\n",
       "        vertical-align: top;\n",
       "    }\n",
       "\n",
       "    .dataframe thead th {\n",
       "        text-align: right;\n",
       "    }\n",
       "</style>\n",
       "<table border=\"1\" class=\"dataframe\">\n",
       "  <thead>\n",
       "    <tr style=\"text-align: right;\">\n",
       "      <th></th>\n",
       "      <th>User-ID</th>\n",
       "      <th>ISBN</th>\n",
       "      <th>Book-Rating</th>\n",
       "      <th>Book-Title</th>\n",
       "      <th>Book-Author</th>\n",
       "      <th>Year-Of-Publication</th>\n",
       "      <th>Publisher</th>\n",
       "      <th>Image-URL-S</th>\n",
       "      <th>Image-URL-M</th>\n",
       "      <th>Image-URL-L</th>\n",
       "    </tr>\n",
       "  </thead>\n",
       "  <tbody>\n",
       "    <tr>\n",
       "      <th>0</th>\n",
       "      <td>276725</td>\n",
       "      <td>034545104X</td>\n",
       "      <td>0</td>\n",
       "      <td>Flesh Tones: A Novel</td>\n",
       "      <td>M. J. Rose</td>\n",
       "      <td>2002</td>\n",
       "      <td>Ballantine Books</td>\n",
       "      <td>http://images.amazon.com/images/P/034545104X.0...</td>\n",
       "      <td>http://images.amazon.com/images/P/034545104X.0...</td>\n",
       "      <td>http://images.amazon.com/images/P/034545104X.0...</td>\n",
       "    </tr>\n",
       "    <tr>\n",
       "      <th>1</th>\n",
       "      <td>2313</td>\n",
       "      <td>034545104X</td>\n",
       "      <td>5</td>\n",
       "      <td>Flesh Tones: A Novel</td>\n",
       "      <td>M. J. Rose</td>\n",
       "      <td>2002</td>\n",
       "      <td>Ballantine Books</td>\n",
       "      <td>http://images.amazon.com/images/P/034545104X.0...</td>\n",
       "      <td>http://images.amazon.com/images/P/034545104X.0...</td>\n",
       "      <td>http://images.amazon.com/images/P/034545104X.0...</td>\n",
       "    </tr>\n",
       "    <tr>\n",
       "      <th>2</th>\n",
       "      <td>6543</td>\n",
       "      <td>034545104X</td>\n",
       "      <td>0</td>\n",
       "      <td>Flesh Tones: A Novel</td>\n",
       "      <td>M. J. Rose</td>\n",
       "      <td>2002</td>\n",
       "      <td>Ballantine Books</td>\n",
       "      <td>http://images.amazon.com/images/P/034545104X.0...</td>\n",
       "      <td>http://images.amazon.com/images/P/034545104X.0...</td>\n",
       "      <td>http://images.amazon.com/images/P/034545104X.0...</td>\n",
       "    </tr>\n",
       "    <tr>\n",
       "      <th>3</th>\n",
       "      <td>8680</td>\n",
       "      <td>034545104X</td>\n",
       "      <td>5</td>\n",
       "      <td>Flesh Tones: A Novel</td>\n",
       "      <td>M. J. Rose</td>\n",
       "      <td>2002</td>\n",
       "      <td>Ballantine Books</td>\n",
       "      <td>http://images.amazon.com/images/P/034545104X.0...</td>\n",
       "      <td>http://images.amazon.com/images/P/034545104X.0...</td>\n",
       "      <td>http://images.amazon.com/images/P/034545104X.0...</td>\n",
       "    </tr>\n",
       "    <tr>\n",
       "      <th>4</th>\n",
       "      <td>10314</td>\n",
       "      <td>034545104X</td>\n",
       "      <td>9</td>\n",
       "      <td>Flesh Tones: A Novel</td>\n",
       "      <td>M. J. Rose</td>\n",
       "      <td>2002</td>\n",
       "      <td>Ballantine Books</td>\n",
       "      <td>http://images.amazon.com/images/P/034545104X.0...</td>\n",
       "      <td>http://images.amazon.com/images/P/034545104X.0...</td>\n",
       "      <td>http://images.amazon.com/images/P/034545104X.0...</td>\n",
       "    </tr>\n",
       "  </tbody>\n",
       "</table>\n",
       "</div>"
      ],
      "text/plain": [
       "   User-ID        ISBN  Book-Rating            Book-Title Book-Author  \\\n",
       "0   276725  034545104X            0  Flesh Tones: A Novel  M. J. Rose   \n",
       "1     2313  034545104X            5  Flesh Tones: A Novel  M. J. Rose   \n",
       "2     6543  034545104X            0  Flesh Tones: A Novel  M. J. Rose   \n",
       "3     8680  034545104X            5  Flesh Tones: A Novel  M. J. Rose   \n",
       "4    10314  034545104X            9  Flesh Tones: A Novel  M. J. Rose   \n",
       "\n",
       "  Year-Of-Publication         Publisher  \\\n",
       "0                2002  Ballantine Books   \n",
       "1                2002  Ballantine Books   \n",
       "2                2002  Ballantine Books   \n",
       "3                2002  Ballantine Books   \n",
       "4                2002  Ballantine Books   \n",
       "\n",
       "                                         Image-URL-S  \\\n",
       "0  http://images.amazon.com/images/P/034545104X.0...   \n",
       "1  http://images.amazon.com/images/P/034545104X.0...   \n",
       "2  http://images.amazon.com/images/P/034545104X.0...   \n",
       "3  http://images.amazon.com/images/P/034545104X.0...   \n",
       "4  http://images.amazon.com/images/P/034545104X.0...   \n",
       "\n",
       "                                         Image-URL-M  \\\n",
       "0  http://images.amazon.com/images/P/034545104X.0...   \n",
       "1  http://images.amazon.com/images/P/034545104X.0...   \n",
       "2  http://images.amazon.com/images/P/034545104X.0...   \n",
       "3  http://images.amazon.com/images/P/034545104X.0...   \n",
       "4  http://images.amazon.com/images/P/034545104X.0...   \n",
       "\n",
       "                                         Image-URL-L  \n",
       "0  http://images.amazon.com/images/P/034545104X.0...  \n",
       "1  http://images.amazon.com/images/P/034545104X.0...  \n",
       "2  http://images.amazon.com/images/P/034545104X.0...  \n",
       "3  http://images.amazon.com/images/P/034545104X.0...  \n",
       "4  http://images.amazon.com/images/P/034545104X.0...  "
      ]
     },
     "execution_count": 10,
     "metadata": {},
     "output_type": "execute_result"
    }
   ],
   "source": [
    "ratings_name.head(5)"
   ]
  },
  {
   "cell_type": "code",
   "execution_count": 11,
   "id": "11b812f6",
   "metadata": {
    "execution": {
     "iopub.execute_input": "2022-08-03T15:06:06.313369Z",
     "iopub.status.busy": "2022-08-03T15:06:06.313002Z",
     "iopub.status.idle": "2022-08-03T15:06:07.989624Z",
     "shell.execute_reply": "2022-08-03T15:06:07.988583Z"
    },
    "papermill": {
     "duration": 1.685073,
     "end_time": "2022-08-03T15:06:07.991996",
     "exception": false,
     "start_time": "2022-08-03T15:06:06.306923",
     "status": "completed"
    },
    "tags": []
   },
   "outputs": [
    {
     "data": {
      "text/html": [
       "<div>\n",
       "<style scoped>\n",
       "    .dataframe tbody tr th:only-of-type {\n",
       "        vertical-align: middle;\n",
       "    }\n",
       "\n",
       "    .dataframe tbody tr th {\n",
       "        vertical-align: top;\n",
       "    }\n",
       "\n",
       "    .dataframe thead th {\n",
       "        text-align: right;\n",
       "    }\n",
       "</style>\n",
       "<table border=\"1\" class=\"dataframe\">\n",
       "  <thead>\n",
       "    <tr style=\"text-align: right;\">\n",
       "      <th></th>\n",
       "      <th>Book-Title</th>\n",
       "      <th>number_of_ratings</th>\n",
       "    </tr>\n",
       "  </thead>\n",
       "  <tbody>\n",
       "    <tr>\n",
       "      <th>0</th>\n",
       "      <td>A Light in the Storm: The Civil War Diary of ...</td>\n",
       "      <td>4</td>\n",
       "    </tr>\n",
       "    <tr>\n",
       "      <th>1</th>\n",
       "      <td>Always Have Popsicles</td>\n",
       "      <td>1</td>\n",
       "    </tr>\n",
       "    <tr>\n",
       "      <th>2</th>\n",
       "      <td>Apple Magic (The Collector's series)</td>\n",
       "      <td>1</td>\n",
       "    </tr>\n",
       "    <tr>\n",
       "      <th>3</th>\n",
       "      <td>Ask Lily (Young Women of Faith: Lily Series, ...</td>\n",
       "      <td>1</td>\n",
       "    </tr>\n",
       "    <tr>\n",
       "      <th>4</th>\n",
       "      <td>Beyond IBM: Leadership Marketing and Finance ...</td>\n",
       "      <td>1</td>\n",
       "    </tr>\n",
       "    <tr>\n",
       "      <th>...</th>\n",
       "      <td>...</td>\n",
       "      <td>...</td>\n",
       "    </tr>\n",
       "    <tr>\n",
       "      <th>241066</th>\n",
       "      <td>Ã?Â?lpiraten.</td>\n",
       "      <td>2</td>\n",
       "    </tr>\n",
       "    <tr>\n",
       "      <th>241067</th>\n",
       "      <td>Ã?Â?rger mit Produkt X. Roman.</td>\n",
       "      <td>4</td>\n",
       "    </tr>\n",
       "    <tr>\n",
       "      <th>241068</th>\n",
       "      <td>Ã?Â?sterlich leben.</td>\n",
       "      <td>1</td>\n",
       "    </tr>\n",
       "    <tr>\n",
       "      <th>241069</th>\n",
       "      <td>Ã?Â?stlich der Berge.</td>\n",
       "      <td>3</td>\n",
       "    </tr>\n",
       "    <tr>\n",
       "      <th>241070</th>\n",
       "      <td>Ã?Â?thique en toc</td>\n",
       "      <td>2</td>\n",
       "    </tr>\n",
       "  </tbody>\n",
       "</table>\n",
       "<p>241071 rows × 2 columns</p>\n",
       "</div>"
      ],
      "text/plain": [
       "                                               Book-Title  number_of_ratings\n",
       "0        A Light in the Storm: The Civil War Diary of ...                  4\n",
       "1                                   Always Have Popsicles                  1\n",
       "2                    Apple Magic (The Collector's series)                  1\n",
       "3        Ask Lily (Young Women of Faith: Lily Series, ...                  1\n",
       "4        Beyond IBM: Leadership Marketing and Finance ...                  1\n",
       "...                                                   ...                ...\n",
       "241066                                      Ã?Â?lpiraten.                  2\n",
       "241067                     Ã?Â?rger mit Produkt X. Roman.                  4\n",
       "241068                                Ã?Â?sterlich leben.                  1\n",
       "241069                              Ã?Â?stlich der Berge.                  3\n",
       "241070                                  Ã?Â?thique en toc                  2\n",
       "\n",
       "[241071 rows x 2 columns]"
      ]
     },
     "execution_count": 11,
     "metadata": {},
     "output_type": "execute_result"
    }
   ],
   "source": [
    "\n",
    "num_ratings = ratings_name.groupby('Book-Title').count()['Book-Rating'].reset_index()\n",
    "num_ratings.rename(columns={'Book-Rating':'number_of_ratings'},inplace=True)\n",
    "num_ratings"
   ]
  },
  {
   "cell_type": "code",
   "execution_count": 12,
   "id": "8aafeb0c",
   "metadata": {
    "execution": {
     "iopub.execute_input": "2022-08-03T15:06:08.003907Z",
     "iopub.status.busy": "2022-08-03T15:06:08.003536Z",
     "iopub.status.idle": "2022-08-03T15:06:08.895655Z",
     "shell.execute_reply": "2022-08-03T15:06:08.894613Z"
    },
    "papermill": {
     "duration": 0.901069,
     "end_time": "2022-08-03T15:06:08.898277",
     "exception": false,
     "start_time": "2022-08-03T15:06:07.997208",
     "status": "completed"
    },
    "tags": []
   },
   "outputs": [
    {
     "data": {
      "text/html": [
       "<div>\n",
       "<style scoped>\n",
       "    .dataframe tbody tr th:only-of-type {\n",
       "        vertical-align: middle;\n",
       "    }\n",
       "\n",
       "    .dataframe tbody tr th {\n",
       "        vertical-align: top;\n",
       "    }\n",
       "\n",
       "    .dataframe thead th {\n",
       "        text-align: right;\n",
       "    }\n",
       "</style>\n",
       "<table border=\"1\" class=\"dataframe\">\n",
       "  <thead>\n",
       "    <tr style=\"text-align: right;\">\n",
       "      <th></th>\n",
       "      <th>Book-Title</th>\n",
       "      <th>Book-Rating</th>\n",
       "    </tr>\n",
       "  </thead>\n",
       "  <tbody>\n",
       "    <tr>\n",
       "      <th>0</th>\n",
       "      <td>A Light in the Storm: The Civil War Diary of ...</td>\n",
       "      <td>2.250000</td>\n",
       "    </tr>\n",
       "    <tr>\n",
       "      <th>1</th>\n",
       "      <td>Always Have Popsicles</td>\n",
       "      <td>0.000000</td>\n",
       "    </tr>\n",
       "    <tr>\n",
       "      <th>2</th>\n",
       "      <td>Apple Magic (The Collector's series)</td>\n",
       "      <td>0.000000</td>\n",
       "    </tr>\n",
       "    <tr>\n",
       "      <th>3</th>\n",
       "      <td>Ask Lily (Young Women of Faith: Lily Series, ...</td>\n",
       "      <td>8.000000</td>\n",
       "    </tr>\n",
       "    <tr>\n",
       "      <th>4</th>\n",
       "      <td>Beyond IBM: Leadership Marketing and Finance ...</td>\n",
       "      <td>0.000000</td>\n",
       "    </tr>\n",
       "    <tr>\n",
       "      <th>...</th>\n",
       "      <td>...</td>\n",
       "      <td>...</td>\n",
       "    </tr>\n",
       "    <tr>\n",
       "      <th>241066</th>\n",
       "      <td>Ã?Â?lpiraten.</td>\n",
       "      <td>0.000000</td>\n",
       "    </tr>\n",
       "    <tr>\n",
       "      <th>241067</th>\n",
       "      <td>Ã?Â?rger mit Produkt X. Roman.</td>\n",
       "      <td>5.250000</td>\n",
       "    </tr>\n",
       "    <tr>\n",
       "      <th>241068</th>\n",
       "      <td>Ã?Â?sterlich leben.</td>\n",
       "      <td>7.000000</td>\n",
       "    </tr>\n",
       "    <tr>\n",
       "      <th>241069</th>\n",
       "      <td>Ã?Â?stlich der Berge.</td>\n",
       "      <td>2.666667</td>\n",
       "    </tr>\n",
       "    <tr>\n",
       "      <th>241070</th>\n",
       "      <td>Ã?Â?thique en toc</td>\n",
       "      <td>4.000000</td>\n",
       "    </tr>\n",
       "  </tbody>\n",
       "</table>\n",
       "<p>241071 rows × 2 columns</p>\n",
       "</div>"
      ],
      "text/plain": [
       "                                               Book-Title  Book-Rating\n",
       "0        A Light in the Storm: The Civil War Diary of ...     2.250000\n",
       "1                                   Always Have Popsicles     0.000000\n",
       "2                    Apple Magic (The Collector's series)     0.000000\n",
       "3        Ask Lily (Young Women of Faith: Lily Series, ...     8.000000\n",
       "4        Beyond IBM: Leadership Marketing and Finance ...     0.000000\n",
       "...                                                   ...          ...\n",
       "241066                                      Ã?Â?lpiraten.     0.000000\n",
       "241067                     Ã?Â?rger mit Produkt X. Roman.     5.250000\n",
       "241068                                Ã?Â?sterlich leben.     7.000000\n",
       "241069                              Ã?Â?stlich der Berge.     2.666667\n",
       "241070                                  Ã?Â?thique en toc     4.000000\n",
       "\n",
       "[241071 rows x 2 columns]"
      ]
     },
     "execution_count": 12,
     "metadata": {},
     "output_type": "execute_result"
    }
   ],
   "source": [
    "ratings_name.groupby('Book-Title').mean()['Book-Rating'].reset_index()"
   ]
  },
  {
   "cell_type": "code",
   "execution_count": 13,
   "id": "be251235",
   "metadata": {
    "execution": {
     "iopub.execute_input": "2022-08-03T15:06:08.910497Z",
     "iopub.status.busy": "2022-08-03T15:06:08.910159Z",
     "iopub.status.idle": "2022-08-03T15:06:09.791765Z",
     "shell.execute_reply": "2022-08-03T15:06:09.790755Z"
    },
    "papermill": {
     "duration": 0.890228,
     "end_time": "2022-08-03T15:06:09.794232",
     "exception": false,
     "start_time": "2022-08-03T15:06:08.904004",
     "status": "completed"
    },
    "tags": []
   },
   "outputs": [
    {
     "data": {
      "text/html": [
       "<div>\n",
       "<style scoped>\n",
       "    .dataframe tbody tr th:only-of-type {\n",
       "        vertical-align: middle;\n",
       "    }\n",
       "\n",
       "    .dataframe tbody tr th {\n",
       "        vertical-align: top;\n",
       "    }\n",
       "\n",
       "    .dataframe thead th {\n",
       "        text-align: right;\n",
       "    }\n",
       "</style>\n",
       "<table border=\"1\" class=\"dataframe\">\n",
       "  <thead>\n",
       "    <tr style=\"text-align: right;\">\n",
       "      <th></th>\n",
       "      <th>Book-Title</th>\n",
       "      <th>average_rating</th>\n",
       "    </tr>\n",
       "  </thead>\n",
       "  <tbody>\n",
       "    <tr>\n",
       "      <th>0</th>\n",
       "      <td>A Light in the Storm: The Civil War Diary of ...</td>\n",
       "      <td>2.250000</td>\n",
       "    </tr>\n",
       "    <tr>\n",
       "      <th>1</th>\n",
       "      <td>Always Have Popsicles</td>\n",
       "      <td>0.000000</td>\n",
       "    </tr>\n",
       "    <tr>\n",
       "      <th>2</th>\n",
       "      <td>Apple Magic (The Collector's series)</td>\n",
       "      <td>0.000000</td>\n",
       "    </tr>\n",
       "    <tr>\n",
       "      <th>3</th>\n",
       "      <td>Ask Lily (Young Women of Faith: Lily Series, ...</td>\n",
       "      <td>8.000000</td>\n",
       "    </tr>\n",
       "    <tr>\n",
       "      <th>4</th>\n",
       "      <td>Beyond IBM: Leadership Marketing and Finance ...</td>\n",
       "      <td>0.000000</td>\n",
       "    </tr>\n",
       "    <tr>\n",
       "      <th>...</th>\n",
       "      <td>...</td>\n",
       "      <td>...</td>\n",
       "    </tr>\n",
       "    <tr>\n",
       "      <th>241066</th>\n",
       "      <td>Ã?Â?lpiraten.</td>\n",
       "      <td>0.000000</td>\n",
       "    </tr>\n",
       "    <tr>\n",
       "      <th>241067</th>\n",
       "      <td>Ã?Â?rger mit Produkt X. Roman.</td>\n",
       "      <td>5.250000</td>\n",
       "    </tr>\n",
       "    <tr>\n",
       "      <th>241068</th>\n",
       "      <td>Ã?Â?sterlich leben.</td>\n",
       "      <td>7.000000</td>\n",
       "    </tr>\n",
       "    <tr>\n",
       "      <th>241069</th>\n",
       "      <td>Ã?Â?stlich der Berge.</td>\n",
       "      <td>2.666667</td>\n",
       "    </tr>\n",
       "    <tr>\n",
       "      <th>241070</th>\n",
       "      <td>Ã?Â?thique en toc</td>\n",
       "      <td>4.000000</td>\n",
       "    </tr>\n",
       "  </tbody>\n",
       "</table>\n",
       "<p>241071 rows × 2 columns</p>\n",
       "</div>"
      ],
      "text/plain": [
       "                                               Book-Title  average_rating\n",
       "0        A Light in the Storm: The Civil War Diary of ...        2.250000\n",
       "1                                   Always Have Popsicles        0.000000\n",
       "2                    Apple Magic (The Collector's series)        0.000000\n",
       "3        Ask Lily (Young Women of Faith: Lily Series, ...        8.000000\n",
       "4        Beyond IBM: Leadership Marketing and Finance ...        0.000000\n",
       "...                                                   ...             ...\n",
       "241066                                      Ã?Â?lpiraten.        0.000000\n",
       "241067                     Ã?Â?rger mit Produkt X. Roman.        5.250000\n",
       "241068                                Ã?Â?sterlich leben.        7.000000\n",
       "241069                              Ã?Â?stlich der Berge.        2.666667\n",
       "241070                                  Ã?Â?thique en toc        4.000000\n",
       "\n",
       "[241071 rows x 2 columns]"
      ]
     },
     "execution_count": 13,
     "metadata": {},
     "output_type": "execute_result"
    }
   ],
   "source": [
    "\n",
    "num_ratings = ratings_name.groupby('Book-Title').mean()['Book-Rating'].reset_index()\n",
    "num_ratings.rename(columns={'Book-Rating':'average_rating'},inplace=True)\n",
    "num_ratings"
   ]
  },
  {
   "cell_type": "code",
   "execution_count": null,
   "id": "841b4a4f",
   "metadata": {
    "papermill": {
     "duration": 0.005522,
     "end_time": "2022-08-03T15:06:09.805404",
     "exception": false,
     "start_time": "2022-08-03T15:06:09.799882",
     "status": "completed"
    },
    "tags": []
   },
   "outputs": [],
   "source": []
  }
 ],
 "metadata": {
  "kernelspec": {
   "display_name": "Python 3",
   "language": "python",
   "name": "python3"
  },
  "language_info": {
   "codemirror_mode": {
    "name": "ipython",
    "version": 3
   },
   "file_extension": ".py",
   "mimetype": "text/x-python",
   "name": "python",
   "nbconvert_exporter": "python",
   "pygments_lexer": "ipython3",
   "version": "3.7.12"
  },
  "papermill": {
   "default_parameters": {},
   "duration": 19.733768,
   "end_time": "2022-08-03T15:06:10.632881",
   "environment_variables": {},
   "exception": null,
   "input_path": "__notebook__.ipynb",
   "output_path": "__notebook__.ipynb",
   "parameters": {},
   "start_time": "2022-08-03T15:05:50.899113",
   "version": "2.3.4"
  }
 },
 "nbformat": 4,
 "nbformat_minor": 5
}
