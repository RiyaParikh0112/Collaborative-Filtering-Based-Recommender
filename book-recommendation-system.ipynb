{
 "cells": [
  {
   "cell_type": "code",
   "execution_count": 1,
   "id": "e9f177d9",
   "metadata": {
    "_cell_guid": "b1076dfc-b9ad-4769-8c92-a6c4dae69d19",
    "_uuid": "8f2839f25d086af736a60e9eeb907d3b93b6e0e5",
    "execution": {
     "iopub.execute_input": "2022-08-03T14:00:15.037560Z",
     "iopub.status.busy": "2022-08-03T14:00:15.036940Z",
     "iopub.status.idle": "2022-08-03T14:00:15.050515Z",
     "shell.execute_reply": "2022-08-03T14:00:15.049484Z"
    },
    "papermill": {
     "duration": 0.022063,
     "end_time": "2022-08-03T14:00:15.053061",
     "exception": false,
     "start_time": "2022-08-03T14:00:15.030998",
     "status": "completed"
    },
    "tags": []
   },
   "outputs": [],
   "source": [
    "import pandas as pd\n",
    "import numpy as np"
   ]
  },
  {
   "cell_type": "code",
   "execution_count": 2,
   "id": "bb910214",
   "metadata": {
    "execution": {
     "iopub.execute_input": "2022-08-03T14:00:15.060859Z",
     "iopub.status.busy": "2022-08-03T14:00:15.060477Z",
     "iopub.status.idle": "2022-08-03T14:00:21.150694Z",
     "shell.execute_reply": "2022-08-03T14:00:21.149669Z"
    },
    "papermill": {
     "duration": 6.097268,
     "end_time": "2022-08-03T14:00:21.153539",
     "exception": false,
     "start_time": "2022-08-03T14:00:15.056271",
     "status": "completed"
    },
    "tags": []
   },
   "outputs": [
    {
     "name": "stderr",
     "output_type": "stream",
     "text": [
      "/opt/conda/lib/python3.7/site-packages/IPython/core/interactiveshell.py:3552: DtypeWarning: Columns (3) have mixed types.Specify dtype option on import or set low_memory=False.\n",
      "  exec(code_obj, self.user_global_ns, self.user_ns)\n"
     ]
    }
   ],
   "source": [
    "books = pd.read_csv('../input/book-recommendation-dataset/Books.csv')\n",
    "users = pd.read_csv('../input/book-recommendation-dataset/Books.csv')\n",
    "ratings = pd.read_csv('../input/book-recommendation-dataset/Books.csv')"
   ]
  },
  {
   "cell_type": "code",
   "execution_count": 3,
   "id": "c68961ca",
   "metadata": {
    "execution": {
     "iopub.execute_input": "2022-08-03T14:00:21.161711Z",
     "iopub.status.busy": "2022-08-03T14:00:21.160931Z",
     "iopub.status.idle": "2022-08-03T14:00:21.166809Z",
     "shell.execute_reply": "2022-08-03T14:00:21.165617Z"
    },
    "papermill": {
     "duration": 0.013169,
     "end_time": "2022-08-03T14:00:21.169818",
     "exception": false,
     "start_time": "2022-08-03T14:00:21.156649",
     "status": "completed"
    },
    "tags": []
   },
   "outputs": [
    {
     "name": "stdout",
     "output_type": "stream",
     "text": [
      "(271360, 8)\n"
     ]
    }
   ],
   "source": [
    "print(ratings.shape)"
   ]
  },
  {
   "cell_type": "code",
   "execution_count": 4,
   "id": "abe3987b",
   "metadata": {
    "execution": {
     "iopub.execute_input": "2022-08-03T14:00:21.177842Z",
     "iopub.status.busy": "2022-08-03T14:00:21.177038Z",
     "iopub.status.idle": "2022-08-03T14:00:21.287954Z",
     "shell.execute_reply": "2022-08-03T14:00:21.286849Z"
    },
    "papermill": {
     "duration": 0.117534,
     "end_time": "2022-08-03T14:00:21.290375",
     "exception": false,
     "start_time": "2022-08-03T14:00:21.172841",
     "status": "completed"
    },
    "tags": []
   },
   "outputs": [
    {
     "data": {
      "text/plain": [
       "ISBN                   0\n",
       "Book-Title             0\n",
       "Book-Author            1\n",
       "Year-Of-Publication    0\n",
       "Publisher              2\n",
       "Image-URL-S            0\n",
       "Image-URL-M            0\n",
       "Image-URL-L            3\n",
       "dtype: int64"
      ]
     },
     "execution_count": 4,
     "metadata": {},
     "output_type": "execute_result"
    }
   ],
   "source": [
    "books.isnull().sum()"
   ]
  },
  {
   "cell_type": "code",
   "execution_count": 5,
   "id": "251826c0",
   "metadata": {
    "execution": {
     "iopub.execute_input": "2022-08-03T14:00:21.297864Z",
     "iopub.status.busy": "2022-08-03T14:00:21.297468Z",
     "iopub.status.idle": "2022-08-03T14:00:21.403254Z",
     "shell.execute_reply": "2022-08-03T14:00:21.402223Z"
    },
    "papermill": {
     "duration": 0.11213,
     "end_time": "2022-08-03T14:00:21.405632",
     "exception": false,
     "start_time": "2022-08-03T14:00:21.293502",
     "status": "completed"
    },
    "tags": []
   },
   "outputs": [
    {
     "data": {
      "text/plain": [
       "ISBN                   0\n",
       "Book-Title             0\n",
       "Book-Author            1\n",
       "Year-Of-Publication    0\n",
       "Publisher              2\n",
       "Image-URL-S            0\n",
       "Image-URL-M            0\n",
       "Image-URL-L            3\n",
       "dtype: int64"
      ]
     },
     "execution_count": 5,
     "metadata": {},
     "output_type": "execute_result"
    }
   ],
   "source": [
    "users.isnull().sum()"
   ]
  },
  {
   "cell_type": "code",
   "execution_count": 6,
   "id": "71819f02",
   "metadata": {
    "execution": {
     "iopub.execute_input": "2022-08-03T14:00:21.413273Z",
     "iopub.status.busy": "2022-08-03T14:00:21.412868Z",
     "iopub.status.idle": "2022-08-03T14:00:22.077370Z",
     "shell.execute_reply": "2022-08-03T14:00:22.076220Z"
    },
    "papermill": {
     "duration": 0.671021,
     "end_time": "2022-08-03T14:00:22.079797",
     "exception": false,
     "start_time": "2022-08-03T14:00:21.408776",
     "status": "completed"
    },
    "tags": []
   },
   "outputs": [
    {
     "data": {
      "text/plain": [
       "0"
      ]
     },
     "execution_count": 6,
     "metadata": {},
     "output_type": "execute_result"
    }
   ],
   "source": [
    "books.duplicated().sum()"
   ]
  },
  {
   "cell_type": "markdown",
   "id": "b3c71906",
   "metadata": {
    "papermill": {
     "duration": 0.002794,
     "end_time": "2022-08-03T14:00:22.085758",
     "exception": false,
     "start_time": "2022-08-03T14:00:22.082964",
     "status": "completed"
    },
    "tags": []
   },
   "source": [
    "# Popularity"
   ]
  },
  {
   "cell_type": "code",
   "execution_count": null,
   "id": "d7162570",
   "metadata": {
    "papermill": {
     "duration": 0.002825,
     "end_time": "2022-08-03T14:00:22.091541",
     "exception": false,
     "start_time": "2022-08-03T14:00:22.088716",
     "status": "completed"
    },
    "tags": []
   },
   "outputs": [],
   "source": []
  }
 ],
 "metadata": {
  "kernelspec": {
   "display_name": "Python 3",
   "language": "python",
   "name": "python3"
  },
  "language_info": {
   "codemirror_mode": {
    "name": "ipython",
    "version": 3
   },
   "file_extension": ".py",
   "mimetype": "text/x-python",
   "name": "python",
   "nbconvert_exporter": "python",
   "pygments_lexer": "ipython3",
   "version": "3.7.12"
  },
  "papermill": {
   "default_parameters": {},
   "duration": 17.157937,
   "end_time": "2022-08-03T14:00:22.816591",
   "environment_variables": {},
   "exception": null,
   "input_path": "__notebook__.ipynb",
   "output_path": "__notebook__.ipynb",
   "parameters": {},
   "start_time": "2022-08-03T14:00:05.658654",
   "version": "2.3.4"
  }
 },
 "nbformat": 4,
 "nbformat_minor": 5
}
